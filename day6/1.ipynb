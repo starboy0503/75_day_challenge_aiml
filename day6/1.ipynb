{
 "cells": [
  {
   "cell_type": "code",
   "execution_count": 1,
   "id": "a15bd102",
   "metadata": {},
   "outputs": [],
   "source": [
    "import numpy as np"
   ]
  },
  {
   "cell_type": "code",
   "execution_count": null,
   "id": "7bad5935",
   "metadata": {},
   "outputs": [],
   "source": [
    "\"\"\"Calculate Mean Absolute Error (MAE)\"\"\"\n",
    "def mean_absolute_error(y_true,y_pred):\n",
    "    errors=np.abs(y_true-y_pred)\n",
    "    return np.mean(errors)"
   ]
  },
  {
   "cell_type": "code",
   "execution_count": 3,
   "id": "bc7e9f00",
   "metadata": {},
   "outputs": [],
   "source": [
    "\"\"\"Calculate Mean Squared Error (MSE)\"\"\"\n",
    "def mean_squared_error(y_true,y_pred):\n",
    "    errors=(y_true-y_pred)**2\n",
    "    return np.mean(errors)"
   ]
  },
  {
   "cell_type": "code",
   "execution_count": 4,
   "id": "70000b5f",
   "metadata": {},
   "outputs": [],
   "source": [
    "\"\"\"Calculate R² (Coefficient of Determination)\"\"\"\n",
    "def r2_score(y_true,y_pred):\n",
    "    ss_res=np.sum((y_true-y_pred)**2)\n",
    "    ss_tot=np.sum((y_true-np.mean(y_pred))**2)\n",
    "    return 1 - (ss_res/ss_tot)"
   ]
  },
  {
   "cell_type": "code",
   "execution_count": 7,
   "id": "3ad1c3de",
   "metadata": {},
   "outputs": [],
   "source": [
    "def main():\n",
    "    y_true=np.array([3.0,-0.5,2.0,7.0])\n",
    "    y_pred=np.array([2.5,0.0,2.1,7.8])\n",
    "    mae=mean_absolute_error(y_true,y_pred)\n",
    "    mse=mean_squared_error(y_true,y_pred)\n",
    "    r2=r2_score(y_true,y_pred)\n",
    "\n",
    "    print(f\"MAE: {mae:.4f}\")\n",
    "    print(f\"MSE: {mse:.4f}\")\n",
    "    print(f\"R2: {r2:.4f}\")"
   ]
  },
  {
   "cell_type": "code",
   "execution_count": 8,
   "id": "b14d09a3",
   "metadata": {},
   "outputs": [
    {
     "name": "stdout",
     "output_type": "stream",
     "text": [
      "MAE: 0.4750\n",
      "MSE: 0.2875\n",
      "R2: 0.9609\n"
     ]
    }
   ],
   "source": [
    "main()"
   ]
  }
 ],
 "metadata": {
  "kernelspec": {
   "display_name": "Python 3",
   "language": "python",
   "name": "python3"
  },
  "language_info": {
   "codemirror_mode": {
    "name": "ipython",
    "version": 3
   },
   "file_extension": ".py",
   "mimetype": "text/x-python",
   "name": "python",
   "nbconvert_exporter": "python",
   "pygments_lexer": "ipython3",
   "version": "3.9.6"
  }
 },
 "nbformat": 4,
 "nbformat_minor": 5
}
